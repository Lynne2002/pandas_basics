{
 "cells": [
  {
   "cell_type": "markdown",
   "id": "aa2faf47",
   "metadata": {},
   "source": [
    "# Pandas\n",
    "\n",
    "Open source library that provides high performance, easy-to-use data analysis tools for Python.\n",
    "- Used for data manipulation and data visualization\n",
    "- Panda data structures -> data frames and series"
   ]
  },
  {
   "cell_type": "code",
   "execution_count": 3,
   "id": "162d8098",
   "metadata": {},
   "outputs": [],
   "source": [
    "# Importing pandas library\n",
    "import pandas as pd"
   ]
  },
  {
   "cell_type": "markdown",
   "id": "01f3d26e",
   "metadata": {},
   "source": [
    "## Series"
   ]
  },
  {
   "cell_type": "code",
   "execution_count": 9,
   "id": "9cb3c238",
   "metadata": {},
   "outputs": [
    {
     "name": "stdout",
     "output_type": "stream",
     "text": [
      "Series: \n",
      "0    U\n",
      "1    G\n",
      "2    A\n",
      "3    N\n",
      "4    D\n",
      "5    A\n",
      "dtype: object\n",
      "Type:  <class 'pandas.core.series.Series'>\n"
     ]
    }
   ],
   "source": [
    "# Creating a series from a tuple\n",
    "series = pd.Series(('U', 'G', 'A', 'N', 'D', 'A'))\n",
    "print(\"Series: \", series,end= \"\\n\", sep = \"\\n\")\n",
    "print(\"Type: \", type(series))"
   ]
  },
  {
   "cell_type": "code",
   "execution_count": 12,
   "id": "23bcb773",
   "metadata": {},
   "outputs": [
    {
     "name": "stdout",
     "output_type": "stream",
     "text": [
      "Series: \n",
      "0    1\n",
      "1    2\n",
      "2    3\n",
      "3    4\n",
      "4    5\n",
      "5    6\n",
      "dtype: int64\n",
      "Type:  <class 'pandas.core.series.Series'>\n"
     ]
    }
   ],
   "source": [
    "# Creating a series from a list\n",
    "series = pd.Series([1, 2, 3, 4, 5, 6])\n",
    "print(\"Series: \", series, end = \"\\n\", sep = \"\\n\")\n",
    "print(\"Type: \", type(series))"
   ]
  },
  {
   "cell_type": "code",
   "execution_count": 15,
   "id": "9bfc3b16",
   "metadata": {},
   "outputs": [
    {
     "name": "stdout",
     "output_type": "stream",
     "text": [
      "Date series: \tDatetimeIndex(['2023-02-01', '2023-02-02', '2023-02-03', '2023-02-04',\n",
      "               '2023-02-05', '2023-02-06', '2023-02-07', '2023-02-08',\n",
      "               '2023-02-09', '2023-02-10', '2023-02-11', '2023-02-12',\n",
      "               '2023-02-13', '2023-02-14', '2023-02-15', '2023-02-16',\n",
      "               '2023-02-17', '2023-02-18', '2023-02-19', '2023-02-20',\n",
      "               '2023-02-21', '2023-02-22', '2023-02-23', '2023-02-24'],\n",
      "              dtype='datetime64[ns]', freq='D')\n",
      "Type: \t<class 'pandas.core.indexes.datetimes.DatetimeIndex'>\n"
     ]
    }
   ],
   "source": [
    "# Creating a date series\n",
    "# Format : mm-dd-yyyy\n",
    "\n",
    "date_series = pd.date_range(start = \"02-01-2023\", end = \"02-24-2023\")\n",
    "print(\"Date series: \", date_series, sep = \"\\t\")\n",
    "print(\"Type: \", type(date_series), sep = '\\t')"
   ]
  },
  {
   "cell_type": "code",
   "execution_count": 25,
   "id": "4888b184",
   "metadata": {},
   "outputs": [
    {
     "name": "stdout",
     "output_type": "stream",
     "text": [
      "All the years: \tInt64Index([2023, 2023, 2023, 2023, 2023, 2023, 2023, 2023, 2023, 2023, 2023,\n",
      "            2023, 2023, 2023, 2023, 2023, 2023, 2023, 2023, 2023, 2023, 2023,\n",
      "            2023, 2023],\n",
      "           dtype='int64')\n",
      "All the months:  Int64Index([2, 2, 2, 2, 2, 2, 2, 2, 2, 2, 2, 2, 2, 2, 2, 2, 2, 2, 2, 2, 2, 2,\n",
      "            2, 2],\n",
      "           dtype='int64')\n",
      "All the names of the months:  Index(['February', 'February', 'February', 'February', 'February', 'February',\n",
      "       'February', 'February', 'February', 'February', 'February', 'February',\n",
      "       'February', 'February', 'February', 'February', 'February', 'February',\n",
      "       'February', 'February', 'February', 'February', 'February', 'February'],\n",
      "      dtype='object')\n",
      "All the days:  Int64Index([ 1,  2,  3,  4,  5,  6,  7,  8,  9, 10, 11, 12, 13, 14, 15, 16, 17,\n",
      "            18, 19, 20, 21, 22, 23, 24],\n",
      "           dtype='int64')\n",
      "All the days of the week:  Index(['Wednesday', 'Thursday', 'Friday', 'Saturday', 'Sunday', 'Monday',\n",
      "       'Tuesday', 'Wednesday', 'Thursday', 'Friday', 'Saturday', 'Sunday',\n",
      "       'Monday', 'Tuesday', 'Wednesday', 'Thursday', 'Friday', 'Saturday',\n",
      "       'Sunday', 'Monday', 'Tuesday', 'Wednesday', 'Thursday', 'Friday'],\n",
      "      dtype='object')\n",
      "Which day of the year are they:  Int64Index([32, 33, 34, 35, 36, 37, 38, 39, 40, 41, 42, 43, 44, 45, 46, 47, 48,\n",
      "            49, 50, 51, 52, 53, 54, 55],\n",
      "           dtype='int64')\n"
     ]
    }
   ],
   "source": [
    "#Functions to use with date_range \n",
    "\n",
    "print(\"All the years: \" , date_series.year, sep = \"\\t\")\n",
    "print(\"All the months: \", date_series.month)\n",
    "print(\"All the names of the months: \", date_series.month_name())\n",
    "print(\"All the days: \", date_series.day)\n",
    "print(\"All the days of the week: \", date_series.day_name())\n",
    "print(\"Which day of the year are they: \", date_series.day_of_year) # The days of the year range from 1 to 365"
   ]
  },
  {
   "cell_type": "code",
   "execution_count": 44,
   "id": "3d61543e",
   "metadata": {},
   "outputs": [
    {
     "name": "stdout",
     "output_type": "stream",
     "text": [
      "Integers: \n",
      "0    1\n",
      "1    2\n",
      "2    3\n",
      "3    4\n",
      "4    5\n",
      "5    6\n",
      "6    7\n",
      "dtype: int64\n",
      "\n",
      "The 0th element in the series:  1\n",
      "\n",
      "The first 4 elements in the series: \n",
      "0    1\n",
      "1    2\n",
      "2    3\n",
      "3    4\n",
      "dtype: int64\n",
      "\n",
      "The 1st and the 4th element in the series: \n",
      "0    1\n",
      "3    4\n",
      "dtype: int64\n"
     ]
    }
   ],
   "source": [
    "# Indexing\n",
    "\n",
    "integer_series = pd.Series([1, 2, 3, 4, 5, 6, 7])\n",
    "print(\"Integers: \", integer_series, end=\"\\n\\n\", sep =\"\\n\")\n",
    "print(\"The 0th element in the series: \", integer_series[0], end =\"\\n\\n\")\n",
    "print(\"The first 4 elements in the series: \", integer_series[:4], end=\"\\n\\n\", sep=\"\\n\")\n",
    "print(\"The 1st and the 4th element in the series: \", integer_series[[0,3]], sep=\"\\n\")\n"
   ]
  },
  {
   "cell_type": "code",
   "execution_count": 50,
   "id": "96060ae4",
   "metadata": {},
   "outputs": [
    {
     "name": "stdout",
     "output_type": "stream",
     "text": [
      "Series: \n",
      "101    1\n",
      "102    2\n",
      "103    3\n",
      "104    4\n",
      "105    5\n",
      "dtype: int64\n",
      "\n",
      "Series: \n",
      "101    1\n",
      "102    2\n",
      "103    3\n",
      "104    4\n",
      "105    5\n",
      "dtype: int64\n"
     ]
    }
   ],
   "source": [
    "# Renaming the indexes\n",
    "integer_series = pd.Series([1, 2, 3, 4, 5], index = [101, 102, 103, 104, 105])\n",
    "print(\"Series: \", integer_series, sep = \"\\n\", end = \"\\n\\n\")\n",
    "\n",
    "# Easier and more efficient way\n",
    "integer_series = pd.Series([1, 2, 3, 4, 5], range(101, 106))\n",
    "print(\"Series: \", integer_series, sep =\"\\n\")"
   ]
  },
  {
   "cell_type": "markdown",
   "id": "fa108cd9",
   "metadata": {},
   "source": [
    "## Data Frames"
   ]
  },
  {
   "cell_type": "code",
   "execution_count": 59,
   "id": "566354ab",
   "metadata": {},
   "outputs": [
    {
     "data": {
      "text/html": [
       "<div>\n",
       "<style scoped>\n",
       "    .dataframe tbody tr th:only-of-type {\n",
       "        vertical-align: middle;\n",
       "    }\n",
       "\n",
       "    .dataframe tbody tr th {\n",
       "        vertical-align: top;\n",
       "    }\n",
       "\n",
       "    .dataframe thead th {\n",
       "        text-align: right;\n",
       "    }\n",
       "</style>\n",
       "<table border=\"1\" class=\"dataframe\">\n",
       "  <thead>\n",
       "    <tr style=\"text-align: right;\">\n",
       "      <th></th>\n",
       "      <th>Name</th>\n",
       "      <th>Roll number</th>\n",
       "      <th>Marks</th>\n",
       "    </tr>\n",
       "  </thead>\n",
       "  <tbody>\n",
       "    <tr>\n",
       "      <th>0</th>\n",
       "      <td>Joy</td>\n",
       "      <td>1</td>\n",
       "      <td>90</td>\n",
       "    </tr>\n",
       "    <tr>\n",
       "      <th>1</th>\n",
       "      <td>Grace</td>\n",
       "      <td>4</td>\n",
       "      <td>40</td>\n",
       "    </tr>\n",
       "    <tr>\n",
       "      <th>2</th>\n",
       "      <td>Purity</td>\n",
       "      <td>9</td>\n",
       "      <td>87</td>\n",
       "    </tr>\n",
       "    <tr>\n",
       "      <th>3</th>\n",
       "      <td>Dan</td>\n",
       "      <td>10</td>\n",
       "      <td>65</td>\n",
       "    </tr>\n",
       "    <tr>\n",
       "      <th>4</th>\n",
       "      <td>Alex</td>\n",
       "      <td>14</td>\n",
       "      <td>78</td>\n",
       "    </tr>\n",
       "  </tbody>\n",
       "</table>\n",
       "</div>"
      ],
      "text/plain": [
       "     Name  Roll number  Marks\n",
       "0     Joy            1     90\n",
       "1   Grace            4     40\n",
       "2  Purity            9     87\n",
       "3     Dan           10     65\n",
       "4    Alex           14     78"
      ]
     },
     "execution_count": 59,
     "metadata": {},
     "output_type": "execute_result"
    }
   ],
   "source": [
    "student_df = pd.DataFrame({'Name': ['Joy', 'Grace', 'Purity', 'Dan', 'Alex'],\n",
    "                         'Roll number': [1, 4, 9, 10, 14],\n",
    "                         'Marks': [90, 40, 87, 65, 78]})\n",
    "student_df"
   ]
  },
  {
   "cell_type": "code",
   "execution_count": 61,
   "id": "a934370b",
   "metadata": {},
   "outputs": [
    {
     "data": {
      "text/html": [
       "<div>\n",
       "<style scoped>\n",
       "    .dataframe tbody tr th:only-of-type {\n",
       "        vertical-align: middle;\n",
       "    }\n",
       "\n",
       "    .dataframe tbody tr th {\n",
       "        vertical-align: top;\n",
       "    }\n",
       "\n",
       "    .dataframe thead th {\n",
       "        text-align: right;\n",
       "    }\n",
       "</style>\n",
       "<table border=\"1\" class=\"dataframe\">\n",
       "  <thead>\n",
       "    <tr style=\"text-align: right;\">\n",
       "      <th></th>\n",
       "      <th>Name</th>\n",
       "      <th>Marks</th>\n",
       "    </tr>\n",
       "  </thead>\n",
       "  <tbody>\n",
       "    <tr>\n",
       "      <th>1</th>\n",
       "      <td>Joy</td>\n",
       "      <td>90</td>\n",
       "    </tr>\n",
       "    <tr>\n",
       "      <th>4</th>\n",
       "      <td>Grace</td>\n",
       "      <td>40</td>\n",
       "    </tr>\n",
       "    <tr>\n",
       "      <th>9</th>\n",
       "      <td>Purity</td>\n",
       "      <td>87</td>\n",
       "    </tr>\n",
       "    <tr>\n",
       "      <th>14</th>\n",
       "      <td>Dan</td>\n",
       "      <td>65</td>\n",
       "    </tr>\n",
       "    <tr>\n",
       "      <th>10</th>\n",
       "      <td>Alex</td>\n",
       "      <td>78</td>\n",
       "    </tr>\n",
       "  </tbody>\n",
       "</table>\n",
       "</div>"
      ],
      "text/plain": [
       "      Name  Marks\n",
       "1      Joy     90\n",
       "4    Grace     40\n",
       "9   Purity     87\n",
       "14     Dan     65\n",
       "10    Alex     78"
      ]
     },
     "execution_count": 61,
     "metadata": {},
     "output_type": "execute_result"
    }
   ],
   "source": [
    "# Re-indexing according to roll number\n",
    "roll_number =[1, 4, 9, 14, 10]\n",
    "student_df = pd.DataFrame({'Name': ['Joy', 'Grace','Purity', 'Dan', 'Alex'],\n",
    "                          'Marks':[90, 40, 87, 65, 78]\n",
    "        }, index = roll_number)\n",
    "student_df"
   ]
  },
  {
   "cell_type": "code",
   "execution_count": 64,
   "id": "127ee596",
   "metadata": {},
   "outputs": [
    {
     "data": {
      "text/html": [
       "<div>\n",
       "<style scoped>\n",
       "    .dataframe tbody tr th:only-of-type {\n",
       "        vertical-align: middle;\n",
       "    }\n",
       "\n",
       "    .dataframe tbody tr th {\n",
       "        vertical-align: top;\n",
       "    }\n",
       "\n",
       "    .dataframe thead th {\n",
       "        text-align: right;\n",
       "    }\n",
       "</style>\n",
       "<table border=\"1\" class=\"dataframe\">\n",
       "  <thead>\n",
       "    <tr style=\"text-align: right;\">\n",
       "      <th></th>\n",
       "      <th>first_name</th>\n",
       "      <th>last_name</th>\n",
       "      <th>gender</th>\n",
       "    </tr>\n",
       "    <tr>\n",
       "      <th>id</th>\n",
       "      <th></th>\n",
       "      <th></th>\n",
       "      <th></th>\n",
       "    </tr>\n",
       "  </thead>\n",
       "  <tbody>\n",
       "    <tr>\n",
       "      <th>1</th>\n",
       "      <td>Dodi</td>\n",
       "      <td>MacCurley</td>\n",
       "      <td>Male</td>\n",
       "    </tr>\n",
       "    <tr>\n",
       "      <th>2</th>\n",
       "      <td>Pooh</td>\n",
       "      <td>Casado</td>\n",
       "      <td>Genderqueer</td>\n",
       "    </tr>\n",
       "    <tr>\n",
       "      <th>3</th>\n",
       "      <td>Krispin</td>\n",
       "      <td>Govinlock</td>\n",
       "      <td>Agender</td>\n",
       "    </tr>\n",
       "    <tr>\n",
       "      <th>4</th>\n",
       "      <td>Tiphany</td>\n",
       "      <td>Dabney</td>\n",
       "      <td>Bigender</td>\n",
       "    </tr>\n",
       "    <tr>\n",
       "      <th>5</th>\n",
       "      <td>Derry</td>\n",
       "      <td>Fehner</td>\n",
       "      <td>Genderfluid</td>\n",
       "    </tr>\n",
       "    <tr>\n",
       "      <th>6</th>\n",
       "      <td>Heriberto</td>\n",
       "      <td>Behninck</td>\n",
       "      <td>Bigender</td>\n",
       "    </tr>\n",
       "    <tr>\n",
       "      <th>7</th>\n",
       "      <td>Michal</td>\n",
       "      <td>Gath</td>\n",
       "      <td>Female</td>\n",
       "    </tr>\n",
       "    <tr>\n",
       "      <th>8</th>\n",
       "      <td>Stella</td>\n",
       "      <td>Shadwick</td>\n",
       "      <td>Genderfluid</td>\n",
       "    </tr>\n",
       "    <tr>\n",
       "      <th>9</th>\n",
       "      <td>Consuelo</td>\n",
       "      <td>Asty</td>\n",
       "      <td>Polygender</td>\n",
       "    </tr>\n",
       "    <tr>\n",
       "      <th>10</th>\n",
       "      <td>Amabel</td>\n",
       "      <td>Mortimer</td>\n",
       "      <td>Male</td>\n",
       "    </tr>\n",
       "  </tbody>\n",
       "</table>\n",
       "</div>"
      ],
      "text/plain": [
       "   first_name  last_name       gender\n",
       "id                                   \n",
       "1        Dodi  MacCurley         Male\n",
       "2        Pooh     Casado  Genderqueer\n",
       "3     Krispin  Govinlock      Agender\n",
       "4     Tiphany     Dabney     Bigender\n",
       "5       Derry     Fehner  Genderfluid\n",
       "6   Heriberto   Behninck     Bigender\n",
       "7      Michal       Gath       Female\n",
       "8      Stella   Shadwick  Genderfluid\n",
       "9    Consuelo       Asty   Polygender\n",
       "10     Amabel   Mortimer         Male"
      ]
     },
     "execution_count": 64,
     "metadata": {},
     "output_type": "execute_result"
    }
   ],
   "source": [
    "# Reading a csv file\n",
    "# 3 ways\n",
    "#dummy_df = pd.read_csv(r'C:\\folder\\file.csv')\n",
    "#dummy_df = pd.read_csv('C:\\\\folder\\file.csv')\n",
    "#dummy_df = pd.read_csv('C:/folder/file.csv')\n",
    "\n",
    "#OR:\n",
    "dummy_df = pd.read_csv('dummy_data.csv')\n",
    "\n",
    "# Setting the index to a certain value\n",
    "dummy_df = dummy_df.set_index('id')\n",
    "dummy_df"
   ]
  },
  {
   "cell_type": "markdown",
   "id": "93aacb17",
   "metadata": {},
   "source": [
    "# Functions"
   ]
  },
  {
   "cell_type": "code",
   "execution_count": 65,
   "id": "0e48f484",
   "metadata": {},
   "outputs": [
    {
     "data": {
      "text/html": [
       "<div>\n",
       "<style scoped>\n",
       "    .dataframe tbody tr th:only-of-type {\n",
       "        vertical-align: middle;\n",
       "    }\n",
       "\n",
       "    .dataframe tbody tr th {\n",
       "        vertical-align: top;\n",
       "    }\n",
       "\n",
       "    .dataframe thead th {\n",
       "        text-align: right;\n",
       "    }\n",
       "</style>\n",
       "<table border=\"1\" class=\"dataframe\">\n",
       "  <thead>\n",
       "    <tr style=\"text-align: right;\">\n",
       "      <th></th>\n",
       "      <th>first_name</th>\n",
       "      <th>last_name</th>\n",
       "      <th>gender</th>\n",
       "    </tr>\n",
       "    <tr>\n",
       "      <th>id</th>\n",
       "      <th></th>\n",
       "      <th></th>\n",
       "      <th></th>\n",
       "    </tr>\n",
       "  </thead>\n",
       "  <tbody>\n",
       "    <tr>\n",
       "      <th>1</th>\n",
       "      <td>Dodi</td>\n",
       "      <td>MacCurley</td>\n",
       "      <td>Male</td>\n",
       "    </tr>\n",
       "    <tr>\n",
       "      <th>2</th>\n",
       "      <td>Pooh</td>\n",
       "      <td>Casado</td>\n",
       "      <td>Genderqueer</td>\n",
       "    </tr>\n",
       "    <tr>\n",
       "      <th>3</th>\n",
       "      <td>Krispin</td>\n",
       "      <td>Govinlock</td>\n",
       "      <td>Agender</td>\n",
       "    </tr>\n",
       "    <tr>\n",
       "      <th>4</th>\n",
       "      <td>Tiphany</td>\n",
       "      <td>Dabney</td>\n",
       "      <td>Bigender</td>\n",
       "    </tr>\n",
       "    <tr>\n",
       "      <th>5</th>\n",
       "      <td>Derry</td>\n",
       "      <td>Fehner</td>\n",
       "      <td>Genderfluid</td>\n",
       "    </tr>\n",
       "    <tr>\n",
       "      <th>6</th>\n",
       "      <td>Heriberto</td>\n",
       "      <td>Behninck</td>\n",
       "      <td>Bigender</td>\n",
       "    </tr>\n",
       "  </tbody>\n",
       "</table>\n",
       "</div>"
      ],
      "text/plain": [
       "   first_name  last_name       gender\n",
       "id                                   \n",
       "1        Dodi  MacCurley         Male\n",
       "2        Pooh     Casado  Genderqueer\n",
       "3     Krispin  Govinlock      Agender\n",
       "4     Tiphany     Dabney     Bigender\n",
       "5       Derry     Fehner  Genderfluid\n",
       "6   Heriberto   Behninck     Bigender"
      ]
     },
     "execution_count": 65,
     "metadata": {},
     "output_type": "execute_result"
    }
   ],
   "source": [
    "# Viewing the first 6 records\n",
    "\n",
    "dummy_df.head(6)"
   ]
  },
  {
   "cell_type": "code",
   "execution_count": 66,
   "id": "94d958a5",
   "metadata": {},
   "outputs": [
    {
     "data": {
      "text/html": [
       "<div>\n",
       "<style scoped>\n",
       "    .dataframe tbody tr th:only-of-type {\n",
       "        vertical-align: middle;\n",
       "    }\n",
       "\n",
       "    .dataframe tbody tr th {\n",
       "        vertical-align: top;\n",
       "    }\n",
       "\n",
       "    .dataframe thead th {\n",
       "        text-align: right;\n",
       "    }\n",
       "</style>\n",
       "<table border=\"1\" class=\"dataframe\">\n",
       "  <thead>\n",
       "    <tr style=\"text-align: right;\">\n",
       "      <th></th>\n",
       "      <th>first_name</th>\n",
       "      <th>last_name</th>\n",
       "      <th>gender</th>\n",
       "    </tr>\n",
       "    <tr>\n",
       "      <th>id</th>\n",
       "      <th></th>\n",
       "      <th></th>\n",
       "      <th></th>\n",
       "    </tr>\n",
       "  </thead>\n",
       "  <tbody>\n",
       "    <tr>\n",
       "      <th>5</th>\n",
       "      <td>Derry</td>\n",
       "      <td>Fehner</td>\n",
       "      <td>Genderfluid</td>\n",
       "    </tr>\n",
       "    <tr>\n",
       "      <th>6</th>\n",
       "      <td>Heriberto</td>\n",
       "      <td>Behninck</td>\n",
       "      <td>Bigender</td>\n",
       "    </tr>\n",
       "    <tr>\n",
       "      <th>7</th>\n",
       "      <td>Michal</td>\n",
       "      <td>Gath</td>\n",
       "      <td>Female</td>\n",
       "    </tr>\n",
       "    <tr>\n",
       "      <th>8</th>\n",
       "      <td>Stella</td>\n",
       "      <td>Shadwick</td>\n",
       "      <td>Genderfluid</td>\n",
       "    </tr>\n",
       "    <tr>\n",
       "      <th>9</th>\n",
       "      <td>Consuelo</td>\n",
       "      <td>Asty</td>\n",
       "      <td>Polygender</td>\n",
       "    </tr>\n",
       "    <tr>\n",
       "      <th>10</th>\n",
       "      <td>Amabel</td>\n",
       "      <td>Mortimer</td>\n",
       "      <td>Male</td>\n",
       "    </tr>\n",
       "  </tbody>\n",
       "</table>\n",
       "</div>"
      ],
      "text/plain": [
       "   first_name last_name       gender\n",
       "id                                  \n",
       "5       Derry    Fehner  Genderfluid\n",
       "6   Heriberto  Behninck     Bigender\n",
       "7      Michal      Gath       Female\n",
       "8      Stella  Shadwick  Genderfluid\n",
       "9    Consuelo      Asty   Polygender\n",
       "10     Amabel  Mortimer         Male"
      ]
     },
     "execution_count": 66,
     "metadata": {},
     "output_type": "execute_result"
    }
   ],
   "source": [
    "# Viewing the last 6 records\n",
    "\n",
    "dummy_df.tail(6)"
   ]
  },
  {
   "cell_type": "code",
   "execution_count": 67,
   "id": "f8122144",
   "metadata": {},
   "outputs": [
    {
     "name": "stdout",
     "output_type": "stream",
     "text": [
      "<class 'pandas.core.frame.DataFrame'>\n",
      "Int64Index: 10 entries, 1 to 10\n",
      "Data columns (total 3 columns):\n",
      " #   Column      Non-Null Count  Dtype \n",
      "---  ------      --------------  ----- \n",
      " 0   first_name  10 non-null     object\n",
      " 1   last_name   10 non-null     object\n",
      " 2   gender      10 non-null     object\n",
      "dtypes: object(3)\n",
      "memory usage: 320.0+ bytes\n"
     ]
    }
   ],
   "source": [
    "# Information about the dataframe\n",
    "\n",
    "dummy_df.info()"
   ]
  },
  {
   "cell_type": "code",
   "execution_count": 69,
   "id": "b27a9e3e",
   "metadata": {},
   "outputs": [
    {
     "data": {
      "text/plain": [
       "(10, 3)"
      ]
     },
     "execution_count": 69,
     "metadata": {},
     "output_type": "execute_result"
    }
   ],
   "source": [
    "# Shape of the data - 3 columns, 10 entries\n",
    "dummy_df.shape"
   ]
  },
  {
   "cell_type": "code",
   "execution_count": 71,
   "id": "d88861d4",
   "metadata": {},
   "outputs": [
    {
     "data": {
      "text/html": [
       "<div>\n",
       "<style scoped>\n",
       "    .dataframe tbody tr th:only-of-type {\n",
       "        vertical-align: middle;\n",
       "    }\n",
       "\n",
       "    .dataframe tbody tr th {\n",
       "        vertical-align: top;\n",
       "    }\n",
       "\n",
       "    .dataframe thead th {\n",
       "        text-align: right;\n",
       "    }\n",
       "</style>\n",
       "<table border=\"1\" class=\"dataframe\">\n",
       "  <thead>\n",
       "    <tr style=\"text-align: right;\">\n",
       "      <th></th>\n",
       "      <th>first_name</th>\n",
       "      <th>last_name</th>\n",
       "      <th>gender</th>\n",
       "    </tr>\n",
       "  </thead>\n",
       "  <tbody>\n",
       "    <tr>\n",
       "      <th>count</th>\n",
       "      <td>10</td>\n",
       "      <td>10</td>\n",
       "      <td>10</td>\n",
       "    </tr>\n",
       "    <tr>\n",
       "      <th>unique</th>\n",
       "      <td>10</td>\n",
       "      <td>10</td>\n",
       "      <td>7</td>\n",
       "    </tr>\n",
       "    <tr>\n",
       "      <th>top</th>\n",
       "      <td>Dodi</td>\n",
       "      <td>MacCurley</td>\n",
       "      <td>Male</td>\n",
       "    </tr>\n",
       "    <tr>\n",
       "      <th>freq</th>\n",
       "      <td>1</td>\n",
       "      <td>1</td>\n",
       "      <td>2</td>\n",
       "    </tr>\n",
       "  </tbody>\n",
       "</table>\n",
       "</div>"
      ],
      "text/plain": [
       "       first_name  last_name gender\n",
       "count          10         10     10\n",
       "unique         10         10      7\n",
       "top          Dodi  MacCurley   Male\n",
       "freq            1          1      2"
      ]
     },
     "execution_count": 71,
     "metadata": {},
     "output_type": "execute_result"
    }
   ],
   "source": [
    "# Describes the distribution of the data\n",
    "# discrete and continuous\n",
    "# Used for Integer and float values mostly\n",
    "# Not used in categorical variables\n",
    "dummy_df.describe()"
   ]
  },
  {
   "cell_type": "code",
   "execution_count": 72,
   "id": "c208e740",
   "metadata": {},
   "outputs": [
    {
     "data": {
      "text/plain": [
       "Index(['first_name', 'last_name', 'gender'], dtype='object')"
      ]
     },
     "execution_count": 72,
     "metadata": {},
     "output_type": "execute_result"
    }
   ],
   "source": [
    "# Gives you an index of all the columns\n",
    "dummy_df.columns"
   ]
  },
  {
   "cell_type": "code",
   "execution_count": 73,
   "id": "d4890948",
   "metadata": {},
   "outputs": [
    {
     "data": {
      "text/plain": [
       "['first_name', 'last_name', 'gender']"
      ]
     },
     "execution_count": 73,
     "metadata": {},
     "output_type": "execute_result"
    }
   ],
   "source": [
    "# Displaying the columns as a list\n",
    "list(dummy_df.columns)"
   ]
  },
  {
   "cell_type": "code",
   "execution_count": 75,
   "id": "e1f6b54f",
   "metadata": {},
   "outputs": [
    {
     "name": "stdout",
     "output_type": "stream",
     "text": [
      "[['Dodi' 'MacCurley' 'Male']\n",
      " ['Pooh' 'Casado' 'Genderqueer']\n",
      " ['Krispin' 'Govinlock' 'Agender']\n",
      " ['Tiphany' 'Dabney' 'Bigender']\n",
      " ['Derry' 'Fehner' 'Genderfluid']\n",
      " ['Heriberto' 'Behninck' 'Bigender']\n",
      " ['Michal' 'Gath' 'Female']\n",
      " ['Stella' 'Shadwick' 'Genderfluid']\n",
      " ['Consuelo' 'Asty' 'Polygender']\n",
      " ['Amabel' 'Mortimer' 'Male']]\n",
      "\n",
      "The Oth element is  ['Dodi' 'MacCurley' 'Male']\n"
     ]
    }
   ],
   "source": [
    "# Displaying an array of all the rows\n",
    "print(dummy_df.values, end = \"\\n\\n\")\n",
    "print(\"The Oth element is \", dummy_df.values[0])"
   ]
  },
  {
   "cell_type": "code",
   "execution_count": 76,
   "id": "3a7892b5",
   "metadata": {},
   "outputs": [
    {
     "data": {
      "text/plain": [
       "first_name    10\n",
       "last_name     10\n",
       "gender        10\n",
       "dtype: int64"
      ]
     },
     "execution_count": 76,
     "metadata": {},
     "output_type": "execute_result"
    }
   ],
   "source": [
    "# Return the number of all the non-values in each row\n",
    "dummy_df.count()"
   ]
  },
  {
   "cell_type": "code",
   "execution_count": 78,
   "id": "5ea53685",
   "metadata": {},
   "outputs": [
    {
     "data": {
      "text/plain": [
       "Male           2\n",
       "Bigender       2\n",
       "Genderfluid    2\n",
       "Genderqueer    1\n",
       "Agender        1\n",
       "Female         1\n",
       "Polygender     1\n",
       "Name: gender, dtype: int64"
      ]
     },
     "execution_count": 78,
     "metadata": {},
     "output_type": "execute_result"
    }
   ],
   "source": [
    "# To describe categorical data - object type variable\n",
    "# Gives a count of all the unique values present in the columns\n",
    "dummy_df['gender'].value_counts()"
   ]
  },
  {
   "cell_type": "code",
   "execution_count": 82,
   "id": "67edcaa8",
   "metadata": {},
   "outputs": [
    {
     "data": {
      "text/html": [
       "<div>\n",
       "<style scoped>\n",
       "    .dataframe tbody tr th:only-of-type {\n",
       "        vertical-align: middle;\n",
       "    }\n",
       "\n",
       "    .dataframe tbody tr th {\n",
       "        vertical-align: top;\n",
       "    }\n",
       "\n",
       "    .dataframe thead th {\n",
       "        text-align: right;\n",
       "    }\n",
       "</style>\n",
       "<table border=\"1\" class=\"dataframe\">\n",
       "  <thead>\n",
       "    <tr style=\"text-align: right;\">\n",
       "      <th></th>\n",
       "      <th>first_name</th>\n",
       "      <th>last_name</th>\n",
       "      <th>gender</th>\n",
       "    </tr>\n",
       "    <tr>\n",
       "      <th>id</th>\n",
       "      <th></th>\n",
       "      <th></th>\n",
       "      <th></th>\n",
       "    </tr>\n",
       "  </thead>\n",
       "  <tbody>\n",
       "    <tr>\n",
       "      <th>1</th>\n",
       "      <td>Dodi</td>\n",
       "      <td>MacCurley</td>\n",
       "      <td>Male</td>\n",
       "    </tr>\n",
       "  </tbody>\n",
       "</table>\n",
       "</div>"
      ],
      "text/plain": [
       "   first_name  last_name gender\n",
       "id                             \n",
       "1        Dodi  MacCurley   Male"
      ]
     },
     "execution_count": 82,
     "metadata": {},
     "output_type": "execute_result"
    }
   ],
   "source": [
    "# Selecting rows\n",
    "# You cannot associate a single value and get the same output\n",
    "dummy_df[0:1]"
   ]
  },
  {
   "cell_type": "code",
   "execution_count": 83,
   "id": "e8010d62",
   "metadata": {},
   "outputs": [
    {
     "data": {
      "text/html": [
       "<div>\n",
       "<style scoped>\n",
       "    .dataframe tbody tr th:only-of-type {\n",
       "        vertical-align: middle;\n",
       "    }\n",
       "\n",
       "    .dataframe tbody tr th {\n",
       "        vertical-align: top;\n",
       "    }\n",
       "\n",
       "    .dataframe thead th {\n",
       "        text-align: right;\n",
       "    }\n",
       "</style>\n",
       "<table border=\"1\" class=\"dataframe\">\n",
       "  <thead>\n",
       "    <tr style=\"text-align: right;\">\n",
       "      <th></th>\n",
       "      <th>first_name</th>\n",
       "      <th>last_name</th>\n",
       "      <th>gender</th>\n",
       "    </tr>\n",
       "    <tr>\n",
       "      <th>id</th>\n",
       "      <th></th>\n",
       "      <th></th>\n",
       "      <th></th>\n",
       "    </tr>\n",
       "  </thead>\n",
       "  <tbody>\n",
       "    <tr>\n",
       "      <th>2</th>\n",
       "      <td>Pooh</td>\n",
       "      <td>Casado</td>\n",
       "      <td>Genderqueer</td>\n",
       "    </tr>\n",
       "    <tr>\n",
       "      <th>4</th>\n",
       "      <td>Tiphany</td>\n",
       "      <td>Dabney</td>\n",
       "      <td>Bigender</td>\n",
       "    </tr>\n",
       "    <tr>\n",
       "      <th>6</th>\n",
       "      <td>Heriberto</td>\n",
       "      <td>Behninck</td>\n",
       "      <td>Bigender</td>\n",
       "    </tr>\n",
       "    <tr>\n",
       "      <th>8</th>\n",
       "      <td>Stella</td>\n",
       "      <td>Shadwick</td>\n",
       "      <td>Genderfluid</td>\n",
       "    </tr>\n",
       "  </tbody>\n",
       "</table>\n",
       "</div>"
      ],
      "text/plain": [
       "   first_name last_name       gender\n",
       "id                                  \n",
       "2        Pooh    Casado  Genderqueer\n",
       "4     Tiphany    Dabney     Bigender\n",
       "6   Heriberto  Behninck     Bigender\n",
       "8      Stella  Shadwick  Genderfluid"
      ]
     },
     "execution_count": 83,
     "metadata": {},
     "output_type": "execute_result"
    }
   ],
   "source": [
    "dummy_df[1:8:2] # values on a range of 1-8 with an increment of 2"
   ]
  },
  {
   "cell_type": "code",
   "execution_count": 89,
   "id": "8aef219b",
   "metadata": {},
   "outputs": [
    {
     "name": "stdout",
     "output_type": "stream",
     "text": [
      "Gender: \n",
      "id\n",
      "1            Male\n",
      "2     Genderqueer\n",
      "3         Agender\n",
      "4        Bigender\n",
      "5     Genderfluid\n",
      "6        Bigender\n",
      "7          Female\n",
      "8     Genderfluid\n",
      "9      Polygender\n",
      "10           Male\n",
      "Name: gender, dtype: object\n",
      "Gender:  id\n",
      "1            Male\n",
      "2     Genderqueer\n",
      "3         Agender\n",
      "4        Bigender\n",
      "5     Genderfluid\n",
      "6        Bigender\n",
      "7          Female\n",
      "8     Genderfluid\n",
      "9      Polygender\n",
      "10           Male\n",
      "Name: gender, dtype: object\n"
     ]
    },
    {
     "data": {
      "text/plain": [
       "pandas.core.series.Series"
      ]
     },
     "execution_count": 89,
     "metadata": {},
     "output_type": "execute_result"
    }
   ],
   "source": [
    "# Accessing columns\n",
    "# First method - Preferred\n",
    "print(\"Gender: \", dummy_df['gender'],sep=\"\\n\")\n",
    "\n",
    "# Second method\n",
    "print(\"Gender: \" , dummy_df.gender)\n",
    "\n",
    "type(dummy_df['gender'])"
   ]
  },
  {
   "cell_type": "code",
   "execution_count": 92,
   "id": "c5885c1f",
   "metadata": {},
   "outputs": [
    {
     "name": "stdout",
     "output_type": "stream",
     "text": [
      "   first_name       gender\n",
      "id                        \n",
      "1        Dodi         Male\n",
      "2        Pooh  Genderqueer\n",
      "3     Krispin      Agender\n",
      "4     Tiphany     Bigender\n",
      "5       Derry  Genderfluid\n",
      "6   Heriberto     Bigender\n",
      "7      Michal       Female\n",
      "8      Stella  Genderfluid\n",
      "9    Consuelo   Polygender\n",
      "10     Amabel         Male\n"
     ]
    },
    {
     "data": {
      "text/plain": [
       "pandas.core.frame.DataFrame"
      ]
     },
     "execution_count": 92,
     "metadata": {},
     "output_type": "execute_result"
    }
   ],
   "source": [
    "# Displaying multiple columns\n",
    "# Output is a dataframe\n",
    "\n",
    "print(dummy_df[['first_name','gender']],sep=\"\\n\")\n",
    "type(dummy_df)"
   ]
  },
  {
   "cell_type": "markdown",
   "id": "c63c28f8",
   "metadata": {},
   "source": [
    "## Indexing\n",
    "- Label-based indexing -> df.loc\n",
    "- Position-based indexing -> df.iloc"
   ]
  },
  {
   "cell_type": "code",
   "execution_count": 93,
   "id": "dbe41f5c",
   "metadata": {},
   "outputs": [
    {
     "data": {
      "text/html": [
       "<div>\n",
       "<style scoped>\n",
       "    .dataframe tbody tr th:only-of-type {\n",
       "        vertical-align: middle;\n",
       "    }\n",
       "\n",
       "    .dataframe tbody tr th {\n",
       "        vertical-align: top;\n",
       "    }\n",
       "\n",
       "    .dataframe thead th {\n",
       "        text-align: right;\n",
       "    }\n",
       "</style>\n",
       "<table border=\"1\" class=\"dataframe\">\n",
       "  <thead>\n",
       "    <tr style=\"text-align: right;\">\n",
       "      <th></th>\n",
       "      <th>first_name</th>\n",
       "      <th>last_name</th>\n",
       "      <th>gender</th>\n",
       "    </tr>\n",
       "    <tr>\n",
       "      <th>id</th>\n",
       "      <th></th>\n",
       "      <th></th>\n",
       "      <th></th>\n",
       "    </tr>\n",
       "  </thead>\n",
       "  <tbody>\n",
       "    <tr>\n",
       "      <th>1</th>\n",
       "      <td>Dodi</td>\n",
       "      <td>MacCurley</td>\n",
       "      <td>Male</td>\n",
       "    </tr>\n",
       "    <tr>\n",
       "      <th>2</th>\n",
       "      <td>Pooh</td>\n",
       "      <td>Casado</td>\n",
       "      <td>Genderqueer</td>\n",
       "    </tr>\n",
       "    <tr>\n",
       "      <th>3</th>\n",
       "      <td>Krispin</td>\n",
       "      <td>Govinlock</td>\n",
       "      <td>Agender</td>\n",
       "    </tr>\n",
       "    <tr>\n",
       "      <th>4</th>\n",
       "      <td>Tiphany</td>\n",
       "      <td>Dabney</td>\n",
       "      <td>Bigender</td>\n",
       "    </tr>\n",
       "    <tr>\n",
       "      <th>5</th>\n",
       "      <td>Derry</td>\n",
       "      <td>Fehner</td>\n",
       "      <td>Genderfluid</td>\n",
       "    </tr>\n",
       "    <tr>\n",
       "      <th>6</th>\n",
       "      <td>Heriberto</td>\n",
       "      <td>Behninck</td>\n",
       "      <td>Bigender</td>\n",
       "    </tr>\n",
       "    <tr>\n",
       "      <th>7</th>\n",
       "      <td>Michal</td>\n",
       "      <td>Gath</td>\n",
       "      <td>Female</td>\n",
       "    </tr>\n",
       "    <tr>\n",
       "      <th>8</th>\n",
       "      <td>Stella</td>\n",
       "      <td>Shadwick</td>\n",
       "      <td>Genderfluid</td>\n",
       "    </tr>\n",
       "    <tr>\n",
       "      <th>9</th>\n",
       "      <td>Consuelo</td>\n",
       "      <td>Asty</td>\n",
       "      <td>Polygender</td>\n",
       "    </tr>\n",
       "    <tr>\n",
       "      <th>10</th>\n",
       "      <td>Amabel</td>\n",
       "      <td>Mortimer</td>\n",
       "      <td>Male</td>\n",
       "    </tr>\n",
       "  </tbody>\n",
       "</table>\n",
       "</div>"
      ],
      "text/plain": [
       "   first_name  last_name       gender\n",
       "id                                   \n",
       "1        Dodi  MacCurley         Male\n",
       "2        Pooh     Casado  Genderqueer\n",
       "3     Krispin  Govinlock      Agender\n",
       "4     Tiphany     Dabney     Bigender\n",
       "5       Derry     Fehner  Genderfluid\n",
       "6   Heriberto   Behninck     Bigender\n",
       "7      Michal       Gath       Female\n",
       "8      Stella   Shadwick  Genderfluid\n",
       "9    Consuelo       Asty   Polygender\n",
       "10     Amabel   Mortimer         Male"
      ]
     },
     "execution_count": 93,
     "metadata": {},
     "output_type": "execute_result"
    }
   ],
   "source": [
    "dummy_df"
   ]
  },
  {
   "cell_type": "code",
   "execution_count": 96,
   "id": "1d87fc50",
   "metadata": {},
   "outputs": [
    {
     "data": {
      "text/plain": [
       "'Male'"
      ]
     },
     "execution_count": 96,
     "metadata": {},
     "output_type": "execute_result"
    }
   ],
   "source": [
    "# 10th value from the gender column\n",
    "dummy_df.loc[10, 'gender']"
   ]
  },
  {
   "cell_type": "code",
   "execution_count": 99,
   "id": "92b813ac",
   "metadata": {},
   "outputs": [
    {
     "name": "stdout",
     "output_type": "stream",
     "text": [
      "first_name      Amabel\n",
      "last_name     Mortimer\n",
      "gender            Male\n",
      "Name: 10, dtype: object\n"
     ]
    },
    {
     "data": {
      "text/plain": [
       "pandas.core.series.Series"
      ]
     },
     "execution_count": 99,
     "metadata": {},
     "output_type": "execute_result"
    }
   ],
   "source": [
    "# Printing the entire 10th row\n",
    "print(dummy_df.loc[10])\n",
    "type(dummy_df.loc[10])"
   ]
  },
  {
   "cell_type": "code",
   "execution_count": 100,
   "id": "8119fe68",
   "metadata": {},
   "outputs": [
    {
     "name": "stdout",
     "output_type": "stream",
     "text": [
      "MacCurley\n"
     ]
    }
   ],
   "source": [
    "# iloc -> use indexes\n",
    "# The value of 0th row, 1st column\n",
    "\n",
    "print(dummy_df.iloc[0,1])"
   ]
  },
  {
   "cell_type": "code",
   "execution_count": 104,
   "id": "fe7f13ce",
   "metadata": {},
   "outputs": [
    {
     "name": "stdout",
     "output_type": "stream",
     "text": [
      "first_name      Amabel\n",
      "last_name     Mortimer\n",
      "gender            Male\n",
      "Name: 10, dtype: object\n",
      "Type:  <class 'pandas.core.series.Series'>\n"
     ]
    }
   ],
   "source": [
    "# Printing the 10th row values -> index = 9\n",
    "\n",
    "print(dummy_df.iloc[9])\n",
    "print(\"Type: \", type(dummy_df.iloc[9]))"
   ]
  },
  {
   "cell_type": "code",
   "execution_count": 105,
   "id": "baade875",
   "metadata": {},
   "outputs": [
    {
     "data": {
      "text/html": [
       "<div>\n",
       "<style scoped>\n",
       "    .dataframe tbody tr th:only-of-type {\n",
       "        vertical-align: middle;\n",
       "    }\n",
       "\n",
       "    .dataframe tbody tr th {\n",
       "        vertical-align: top;\n",
       "    }\n",
       "\n",
       "    .dataframe thead th {\n",
       "        text-align: right;\n",
       "    }\n",
       "</style>\n",
       "<table border=\"1\" class=\"dataframe\">\n",
       "  <thead>\n",
       "    <tr style=\"text-align: right;\">\n",
       "      <th></th>\n",
       "      <th>first_name</th>\n",
       "      <th>last_name</th>\n",
       "      <th>gender</th>\n",
       "    </tr>\n",
       "    <tr>\n",
       "      <th>id</th>\n",
       "      <th></th>\n",
       "      <th></th>\n",
       "      <th></th>\n",
       "    </tr>\n",
       "  </thead>\n",
       "  <tbody>\n",
       "    <tr>\n",
       "      <th>1</th>\n",
       "      <td>Dodi</td>\n",
       "      <td>MacCurley</td>\n",
       "      <td>Male</td>\n",
       "    </tr>\n",
       "    <tr>\n",
       "      <th>2</th>\n",
       "      <td>Pooh</td>\n",
       "      <td>Casado</td>\n",
       "      <td>Genderqueer</td>\n",
       "    </tr>\n",
       "    <tr>\n",
       "      <th>3</th>\n",
       "      <td>Krispin</td>\n",
       "      <td>Govinlock</td>\n",
       "      <td>Agender</td>\n",
       "    </tr>\n",
       "    <tr>\n",
       "      <th>4</th>\n",
       "      <td>Tiphany</td>\n",
       "      <td>Dabney</td>\n",
       "      <td>Bigender</td>\n",
       "    </tr>\n",
       "    <tr>\n",
       "      <th>5</th>\n",
       "      <td>Derry</td>\n",
       "      <td>Fehner</td>\n",
       "      <td>Genderfluid</td>\n",
       "    </tr>\n",
       "    <tr>\n",
       "      <th>6</th>\n",
       "      <td>Heriberto</td>\n",
       "      <td>Behninck</td>\n",
       "      <td>Bigender</td>\n",
       "    </tr>\n",
       "    <tr>\n",
       "      <th>7</th>\n",
       "      <td>Michal</td>\n",
       "      <td>Gath</td>\n",
       "      <td>Female</td>\n",
       "    </tr>\n",
       "    <tr>\n",
       "      <th>8</th>\n",
       "      <td>Stella</td>\n",
       "      <td>Shadwick</td>\n",
       "      <td>Genderfluid</td>\n",
       "    </tr>\n",
       "    <tr>\n",
       "      <th>9</th>\n",
       "      <td>Consuelo</td>\n",
       "      <td>Asty</td>\n",
       "      <td>Polygender</td>\n",
       "    </tr>\n",
       "    <tr>\n",
       "      <th>10</th>\n",
       "      <td>Amabel</td>\n",
       "      <td>Mortimer</td>\n",
       "      <td>Male</td>\n",
       "    </tr>\n",
       "  </tbody>\n",
       "</table>\n",
       "</div>"
      ],
      "text/plain": [
       "   first_name  last_name       gender\n",
       "id                                   \n",
       "1        Dodi  MacCurley         Male\n",
       "2        Pooh     Casado  Genderqueer\n",
       "3     Krispin  Govinlock      Agender\n",
       "4     Tiphany     Dabney     Bigender\n",
       "5       Derry     Fehner  Genderfluid\n",
       "6   Heriberto   Behninck     Bigender\n",
       "7      Michal       Gath       Female\n",
       "8      Stella   Shadwick  Genderfluid\n",
       "9    Consuelo       Asty   Polygender\n",
       "10     Amabel   Mortimer         Male"
      ]
     },
     "execution_count": 105,
     "metadata": {},
     "output_type": "execute_result"
    }
   ],
   "source": [
    "dummy_df"
   ]
  },
  {
   "cell_type": "code",
   "execution_count": 112,
   "id": "dd2847f6",
   "metadata": {},
   "outputs": [
    {
     "data": {
      "text/html": [
       "<div>\n",
       "<style scoped>\n",
       "    .dataframe tbody tr th:only-of-type {\n",
       "        vertical-align: middle;\n",
       "    }\n",
       "\n",
       "    .dataframe tbody tr th {\n",
       "        vertical-align: top;\n",
       "    }\n",
       "\n",
       "    .dataframe thead th {\n",
       "        text-align: right;\n",
       "    }\n",
       "</style>\n",
       "<table border=\"1\" class=\"dataframe\">\n",
       "  <thead>\n",
       "    <tr style=\"text-align: right;\">\n",
       "      <th></th>\n",
       "      <th>first_name</th>\n",
       "      <th>last_name</th>\n",
       "      <th>gender</th>\n",
       "    </tr>\n",
       "    <tr>\n",
       "      <th>id</th>\n",
       "      <th></th>\n",
       "      <th></th>\n",
       "      <th></th>\n",
       "    </tr>\n",
       "  </thead>\n",
       "  <tbody>\n",
       "    <tr>\n",
       "      <th>1</th>\n",
       "      <td>Dodi</td>\n",
       "      <td>MacCurley</td>\n",
       "      <td>Male</td>\n",
       "    </tr>\n",
       "    <tr>\n",
       "      <th>10</th>\n",
       "      <td>Amabel</td>\n",
       "      <td>Mortimer</td>\n",
       "      <td>Male</td>\n",
       "    </tr>\n",
       "  </tbody>\n",
       "</table>\n",
       "</div>"
      ],
      "text/plain": [
       "   first_name  last_name gender\n",
       "id                             \n",
       "1        Dodi  MacCurley   Male\n",
       "10     Amabel   Mortimer   Male"
      ]
     },
     "execution_count": 112,
     "metadata": {},
     "output_type": "execute_result"
    }
   ],
   "source": [
    "# Conditional statements\n",
    "# How many rows where the gender is male\n",
    "\n",
    "dummy_df[dummy_df.gender == 'Male']"
   ]
  },
  {
   "cell_type": "code",
   "execution_count": 114,
   "id": "275ac057",
   "metadata": {},
   "outputs": [
    {
     "data": {
      "text/html": [
       "<div>\n",
       "<style scoped>\n",
       "    .dataframe tbody tr th:only-of-type {\n",
       "        vertical-align: middle;\n",
       "    }\n",
       "\n",
       "    .dataframe tbody tr th {\n",
       "        vertical-align: top;\n",
       "    }\n",
       "\n",
       "    .dataframe thead th {\n",
       "        text-align: right;\n",
       "    }\n",
       "</style>\n",
       "<table border=\"1\" class=\"dataframe\">\n",
       "  <thead>\n",
       "    <tr style=\"text-align: right;\">\n",
       "      <th></th>\n",
       "      <th>first_name</th>\n",
       "      <th>last_name</th>\n",
       "      <th>gender</th>\n",
       "    </tr>\n",
       "    <tr>\n",
       "      <th>id</th>\n",
       "      <th></th>\n",
       "      <th></th>\n",
       "      <th></th>\n",
       "    </tr>\n",
       "  </thead>\n",
       "  <tbody>\n",
       "    <tr>\n",
       "      <th>4</th>\n",
       "      <td>Tiphany</td>\n",
       "      <td>Dabney</td>\n",
       "      <td>Bigender</td>\n",
       "    </tr>\n",
       "    <tr>\n",
       "      <th>5</th>\n",
       "      <td>Derry</td>\n",
       "      <td>Fehner</td>\n",
       "      <td>Genderfluid</td>\n",
       "    </tr>\n",
       "    <tr>\n",
       "      <th>6</th>\n",
       "      <td>Heriberto</td>\n",
       "      <td>Behninck</td>\n",
       "      <td>Bigender</td>\n",
       "    </tr>\n",
       "    <tr>\n",
       "      <th>7</th>\n",
       "      <td>Michal</td>\n",
       "      <td>Gath</td>\n",
       "      <td>Female</td>\n",
       "    </tr>\n",
       "    <tr>\n",
       "      <th>8</th>\n",
       "      <td>Stella</td>\n",
       "      <td>Shadwick</td>\n",
       "      <td>Genderfluid</td>\n",
       "    </tr>\n",
       "    <tr>\n",
       "      <th>9</th>\n",
       "      <td>Consuelo</td>\n",
       "      <td>Asty</td>\n",
       "      <td>Polygender</td>\n",
       "    </tr>\n",
       "    <tr>\n",
       "      <th>10</th>\n",
       "      <td>Amabel</td>\n",
       "      <td>Mortimer</td>\n",
       "      <td>Male</td>\n",
       "    </tr>\n",
       "  </tbody>\n",
       "</table>\n",
       "</div>"
      ],
      "text/plain": [
       "   first_name last_name       gender\n",
       "id                                  \n",
       "4     Tiphany    Dabney     Bigender\n",
       "5       Derry    Fehner  Genderfluid\n",
       "6   Heriberto  Behninck     Bigender\n",
       "7      Michal      Gath       Female\n",
       "8      Stella  Shadwick  Genderfluid\n",
       "9    Consuelo      Asty   Polygender\n",
       "10     Amabel  Mortimer         Male"
      ]
     },
     "execution_count": 114,
     "metadata": {},
     "output_type": "execute_result"
    }
   ],
   "source": [
    "# Values of rows where index > 3 ->id\n",
    "\n",
    "dummy_df[dummy_df.index > 3]"
   ]
  },
  {
   "cell_type": "code",
   "execution_count": 117,
   "id": "4d63261c",
   "metadata": {},
   "outputs": [
    {
     "data": {
      "text/html": [
       "<div>\n",
       "<style scoped>\n",
       "    .dataframe tbody tr th:only-of-type {\n",
       "        vertical-align: middle;\n",
       "    }\n",
       "\n",
       "    .dataframe tbody tr th {\n",
       "        vertical-align: top;\n",
       "    }\n",
       "\n",
       "    .dataframe thead th {\n",
       "        text-align: right;\n",
       "    }\n",
       "</style>\n",
       "<table border=\"1\" class=\"dataframe\">\n",
       "  <thead>\n",
       "    <tr style=\"text-align: right;\">\n",
       "      <th></th>\n",
       "      <th>first_name</th>\n",
       "      <th>last_name</th>\n",
       "      <th>gender</th>\n",
       "    </tr>\n",
       "    <tr>\n",
       "      <th>id</th>\n",
       "      <th></th>\n",
       "      <th></th>\n",
       "      <th></th>\n",
       "    </tr>\n",
       "  </thead>\n",
       "  <tbody>\n",
       "    <tr>\n",
       "      <th>5</th>\n",
       "      <td>Derry</td>\n",
       "      <td>Fehner</td>\n",
       "      <td>Genderfluid</td>\n",
       "    </tr>\n",
       "    <tr>\n",
       "      <th>10</th>\n",
       "      <td>Amabel</td>\n",
       "      <td>Mortimer</td>\n",
       "      <td>Male</td>\n",
       "    </tr>\n",
       "  </tbody>\n",
       "</table>\n",
       "</div>"
      ],
      "text/plain": [
       "   first_name last_name       gender\n",
       "id                                  \n",
       "5       Derry    Fehner  Genderfluid\n",
       "10     Amabel  Mortimer         Male"
      ]
     },
     "execution_count": 117,
     "metadata": {},
     "output_type": "execute_result"
    }
   ],
   "source": [
    "# Rows where the index is divisible by 5\n",
    "\n",
    "dummy_df[dummy_df.index % 5 == 0]"
   ]
  },
  {
   "cell_type": "code",
   "execution_count": 127,
   "id": "f4564cb8",
   "metadata": {},
   "outputs": [],
   "source": [
    "# Count of all unique values present in the first_name column\n",
    "# To do"
   ]
  }
 ],
 "metadata": {
  "kernelspec": {
   "display_name": "Python 3 (ipykernel)",
   "language": "python",
   "name": "python3"
  },
  "language_info": {
   "codemirror_mode": {
    "name": "ipython",
    "version": 3
   },
   "file_extension": ".py",
   "mimetype": "text/x-python",
   "name": "python",
   "nbconvert_exporter": "python",
   "pygments_lexer": "ipython3",
   "version": "3.10.3"
  }
 },
 "nbformat": 4,
 "nbformat_minor": 5
}
